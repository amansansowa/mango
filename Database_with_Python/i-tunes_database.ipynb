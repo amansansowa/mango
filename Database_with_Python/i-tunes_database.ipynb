{
 "cells": [
  {
   "cell_type": "code",
   "execution_count": 89,
   "metadata": {},
   "outputs": [],
   "source": [
    "import sqlite3\n",
    "import xml.etree.ElementTree as ET"
   ]
  },
  {
   "cell_type": "code",
   "execution_count": 92,
   "metadata": {},
   "outputs": [],
   "source": [
    "conn = sqlite3.connect('apple_i-tunes.sqllite3')\n",
    "cur = conn.cursor()"
   ]
  },
  {
   "cell_type": "code",
   "execution_count": 93,
   "metadata": {},
   "outputs": [
    {
     "data": {
      "text/plain": [
       "<sqlite3.Cursor at 0x22ece5ae420>"
      ]
     },
     "execution_count": 93,
     "metadata": {},
     "output_type": "execute_result"
    }
   ],
   "source": [
    "cur.executescript('''\n",
    "DROP TABLE IF EXISTS Artist;\n",
    "DROP TABLE IF EXISTS Album;\n",
    "DROP TABLE IF EXISTS Track;\n",
    "\n",
    "CREATE TABLE Artist(\n",
    "id INTEGER NOT NULL PRIMARY KEY AUTOINCREMENT UNIQUE,\n",
    "name TEXT UNIQUE);\n",
    "\n",
    "CREATE TABLE Album(\n",
    "id INTEGER NOT NULL PRIMARY KEY AUTOINCREMENT UNIQUE,\n",
    "artist_id INTEGER,\n",
    "title TEXT UNIQUE);\n",
    "\n",
    "CREATE TABLE Track(\n",
    "id INTEGER NOT NULL PRIMARY KEY AUTOINCREMENT UNIQUE,\n",
    "title TEXT UNIQUE,\n",
    "album_id INTEGER,\n",
    "Count INTEGER,\n",
    "rating INTEGER,\n",
    "len INTEGER\n",
    ");\n",
    "''')"
   ]
  },
  {
   "cell_type": "code",
   "execution_count": 94,
   "metadata": {},
   "outputs": [
    {
     "name": "stdout",
     "output_type": "stream",
     "text": [
      "Enter the file:\n",
      "Library.xml\n"
     ]
    }
   ],
   "source": [
    "fname = input('Enter the file:')\n",
    "\n",
    "if len(fname) < 1:\n",
    "    fname = 'Library.xml'\n",
    "\n",
    "print(fname)"
   ]
  },
  {
   "cell_type": "code",
   "execution_count": 95,
   "metadata": {},
   "outputs": [],
   "source": [
    "def lookup(d,key):\n",
    "    found = False\n",
    "    for child in d:\n",
    "        if found:\n",
    "            return child.text\n",
    "        if child.tag == 'key' and child.text == key:\n",
    "            found = True\n",
    "    return None"
   ]
  },
  {
   "cell_type": "code",
   "execution_count": 96,
   "metadata": {},
   "outputs": [
    {
     "name": "stdout",
     "output_type": "stream",
     "text": [
      "dict len: 404\n"
     ]
    }
   ],
   "source": [
    "stuff = ET.parse(fname)\n",
    "all = stuff.findall('dict/dict/dict')\n",
    "print('dict len:', len(all))\n",
    "for entry in all:\n",
    "    if((lookup(entry, 'Name'))  is None):\n",
    "        continue\n",
    "    name = lookup(entry,'Name')\n",
    "    artist = lookup(entry,'Artist')\n",
    "    album = lookup(entry,'Album')\n",
    "    count = lookup(entry,'Play Count')\n",
    "    rating = lookup(entry,'Rating')\n",
    "    length = lookup(entry,'Length')\n",
    "    \n",
    "    if name is None or artist is None or album is None:\n",
    "        continue\n",
    "        \n",
    "    cur.execute('INSERT OR IGNORE INTO Artist (name) VALUES (?)', (artist, ))\n",
    "    cur.execute('SELECT id FROM Artist WHERE name = ?', (artist,))\n",
    "    artist_id = cur.fetchone()[0]\n",
    "    \n",
    "    cur.execute('INSERT OR IGNORE INTO Album (title,artist_id) VALUES (?,?)', (album,artist_id,))\n",
    "    cur.execute('SELECT id FROM Album WHERE title = ?', (album,))\n",
    "    album_id = cur.fetchone()[0]\n",
    "    \n",
    "    cur.execute('INSERT OR REPLACE INTO Track(title,album_id, len,rating,count) VALUES ( ?,?,?,?,?)', (name, album_id, length, rating, count))\n",
    "    \n",
    "    conn.commit()\n",
    "    \n",
    "    "
   ]
  },
  {
   "cell_type": "code",
   "execution_count": null,
   "metadata": {},
   "outputs": [],
   "source": []
  }
 ],
 "metadata": {
  "kernelspec": {
   "display_name": "Python 3",
   "language": "python",
   "name": "python3"
  },
  "language_info": {
   "codemirror_mode": {
    "name": "ipython",
    "version": 3
   },
   "file_extension": ".py",
   "mimetype": "text/x-python",
   "name": "python",
   "nbconvert_exporter": "python",
   "pygments_lexer": "ipython3",
   "version": "3.7.3"
  }
 },
 "nbformat": 4,
 "nbformat_minor": 2
}
