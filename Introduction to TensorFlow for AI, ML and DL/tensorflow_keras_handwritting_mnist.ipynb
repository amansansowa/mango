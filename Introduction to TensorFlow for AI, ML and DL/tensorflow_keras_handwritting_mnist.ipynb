{
  "nbformat": 4,
  "nbformat_minor": 0,
  "metadata": {
    "colab": {
      "name": "tensorflow_keras_handwritting_mnist.ipynb",
      "provenance": []
    },
    "kernelspec": {
      "name": "python3",
      "display_name": "Python 3"
    }
  },
  "cells": [
    {
      "cell_type": "code",
      "metadata": {
        "id": "wWsGs6kDUpMQ",
        "colab_type": "code",
        "colab": {}
      },
      "source": [
        "import tensorflow as tf\n",
        "from tensorflow import keras\n",
        "import matplotlib.pyplot as ppy\n",
        "\n",
        "%matplotlib inline"
      ],
      "execution_count": 0,
      "outputs": []
    },
    {
      "cell_type": "code",
      "metadata": {
        "id": "lZQEjaGlVuRa",
        "colab_type": "code",
        "colab": {}
      },
      "source": [
        "#geting the fashion_mnist data set into a variable\n",
        "mnist = keras.datasets.mnist"
      ],
      "execution_count": 0,
      "outputs": []
    },
    {
      "cell_type": "code",
      "metadata": {
        "id": "yFezEpYqb6pz",
        "colab_type": "code",
        "colab": {
          "base_uri": "https://localhost:8080/",
          "height": 53
        },
        "outputId": "1e29e6fc-44ca-48f4-f8df-8916d5ab9954"
      },
      "source": [
        "(mnist_train,mnist_train_label),(mnist_test,mnist_test_label) = mnist.load_data()\n",
        "\n",
        "#normalising by dividing the train and test data by maximum number of pixles = 255\n",
        "mnist_train = mnist_train/255 \n",
        "mnist_test = mnist_test/255"
      ],
      "execution_count": 4,
      "outputs": [
        {
          "output_type": "stream",
          "text": [
            "Downloading data from https://storage.googleapis.com/tensorflow/tf-keras-datasets/mnist.npz\n",
            "11493376/11490434 [==============================] - 0s 0us/step\n"
          ],
          "name": "stdout"
        }
      ]
    },
    {
      "cell_type": "code",
      "metadata": {
        "id": "ONTF9AlUcPgr",
        "colab_type": "code",
        "colab": {
          "base_uri": "https://localhost:8080/",
          "height": 1000
        },
        "outputId": "76aa4e05-4089-43e9-ab1a-8ae668f6af1b"
      },
      "source": [
        "#visualising the data\n",
        "print(mnist_train[4])\n",
        "ppy.imshow(mnist_train[4])"
      ],
      "execution_count": 6,
      "outputs": [
        {
          "output_type": "stream",
          "text": [
            "[[0.         0.         0.         0.         0.         0.\n",
            "  0.         0.         0.         0.         0.         0.\n",
            "  0.         0.         0.         0.         0.         0.\n",
            "  0.         0.         0.         0.         0.         0.\n",
            "  0.         0.         0.         0.        ]\n",
            " [0.         0.         0.         0.         0.         0.\n",
            "  0.         0.         0.         0.         0.         0.\n",
            "  0.         0.         0.         0.         0.         0.\n",
            "  0.         0.         0.         0.         0.         0.\n",
            "  0.         0.         0.         0.        ]\n",
            " [0.         0.         0.         0.         0.         0.\n",
            "  0.         0.         0.         0.         0.         0.\n",
            "  0.         0.         0.         0.         0.         0.\n",
            "  0.         0.         0.         0.         0.         0.\n",
            "  0.         0.         0.         0.        ]\n",
            " [0.         0.         0.         0.         0.         0.\n",
            "  0.         0.         0.         0.         0.         0.\n",
            "  0.         0.         0.         0.         0.         0.\n",
            "  0.         0.         0.         0.         0.         0.\n",
            "  0.         0.         0.         0.        ]\n",
            " [0.         0.         0.         0.         0.         0.\n",
            "  0.         0.         0.         0.         0.         0.\n",
            "  0.         0.         0.         0.         0.         0.\n",
            "  0.         0.         0.         0.         0.         0.\n",
            "  0.         0.         0.         0.        ]\n",
            " [0.         0.         0.         0.         0.         0.\n",
            "  0.         0.         0.         0.         0.         0.\n",
            "  0.         0.         0.         0.         0.         0.\n",
            "  0.         0.         0.         0.         0.         0.\n",
            "  0.         0.         0.         0.        ]\n",
            " [0.         0.         0.         0.         0.         0.\n",
            "  0.         0.         0.         0.         0.         0.\n",
            "  0.         0.         0.         0.         0.         0.\n",
            "  0.         0.         0.         0.         0.         0.\n",
            "  0.         0.         0.         0.        ]\n",
            " [0.         0.         0.         0.         0.         0.\n",
            "  0.         0.         0.         0.         0.         0.\n",
            "  0.21568627 0.58039216 0.82352941 0.99215686 0.99215686 0.44313725\n",
            "  0.34117647 0.58039216 0.21568627 0.         0.         0.\n",
            "  0.         0.         0.         0.        ]\n",
            " [0.         0.         0.         0.         0.         0.\n",
            "  0.         0.         0.         0.         0.         0.34117647\n",
            "  0.90980392 0.98823529 0.99215686 0.74117647 0.82352941 0.98823529\n",
            "  0.98823529 0.99215686 0.65882353 0.         0.         0.\n",
            "  0.         0.         0.         0.        ]\n",
            " [0.         0.         0.         0.         0.         0.\n",
            "  0.         0.         0.         0.01568627 0.22352941 0.94901961\n",
            "  0.98823529 0.74509804 0.25490196 0.01960784 0.04705882 0.71372549\n",
            "  0.98823529 0.99215686 0.45490196 0.         0.         0.\n",
            "  0.         0.         0.         0.        ]\n",
            " [0.         0.         0.         0.         0.         0.\n",
            "  0.         0.         0.         0.37647059 0.98823529 0.98823529\n",
            "  0.71764706 0.05490196 0.         0.         0.36078431 0.98823529\n",
            "  0.98823529 0.88235294 0.08235294 0.         0.         0.\n",
            "  0.         0.         0.         0.        ]\n",
            " [0.         0.         0.         0.         0.         0.\n",
            "  0.         0.         0.51764706 0.99215686 0.98823529 0.57254902\n",
            "  0.05490196 0.         0.         0.         0.84313725 0.98823529\n",
            "  0.98823529 0.30980392 0.         0.         0.         0.\n",
            "  0.         0.         0.         0.        ]\n",
            " [0.         0.         0.         0.         0.         0.\n",
            "  0.         0.49411765 0.99215686 0.96862745 0.69019608 0.03529412\n",
            "  0.         0.         0.03137255 0.30588235 0.96078431 0.99215686\n",
            "  0.50588235 0.         0.         0.         0.         0.\n",
            "  0.         0.         0.         0.        ]\n",
            " [0.         0.         0.         0.         0.         0.\n",
            "  0.0627451  0.90980392 0.98823529 0.69019608 0.         0.\n",
            "  0.         0.14117647 0.78823529 0.98823529 0.98823529 0.6627451\n",
            "  0.04313725 0.         0.         0.         0.         0.\n",
            "  0.         0.         0.         0.        ]\n",
            " [0.         0.         0.         0.         0.         0.\n",
            "  0.08627451 0.98823529 0.98823529 0.11764706 0.08627451 0.46666667\n",
            "  0.77254902 0.94509804 0.99215686 0.98823529 0.98431373 0.30196078\n",
            "  0.         0.         0.         0.         0.         0.\n",
            "  0.         0.         0.         0.        ]\n",
            " [0.         0.         0.         0.         0.         0.\n",
            "  0.0627451  0.90588235 0.98823529 0.99215686 0.98823529 0.98823529\n",
            "  0.98823529 0.88627451 0.89019608 0.98823529 0.90588235 0.\n",
            "  0.         0.         0.         0.         0.         0.\n",
            "  0.         0.         0.         0.        ]\n",
            " [0.         0.         0.         0.         0.         0.\n",
            "  0.         0.21568627 0.92156863 0.99215686 0.85098039 0.54117647\n",
            "  0.16470588 0.09411765 0.75294118 0.98823529 0.56078431 0.\n",
            "  0.         0.         0.         0.         0.         0.\n",
            "  0.         0.         0.         0.        ]\n",
            " [0.         0.         0.         0.         0.         0.\n",
            "  0.         0.         0.         0.         0.         0.\n",
            "  0.         0.24313725 1.         0.99215686 0.42745098 0.\n",
            "  0.         0.         0.         0.         0.         0.\n",
            "  0.         0.         0.         0.        ]\n",
            " [0.         0.         0.         0.         0.         0.\n",
            "  0.         0.         0.         0.         0.         0.\n",
            "  0.         0.27843137 0.99215686 0.98823529 0.08235294 0.\n",
            "  0.         0.         0.         0.         0.         0.\n",
            "  0.         0.         0.         0.        ]\n",
            " [0.         0.         0.         0.         0.         0.\n",
            "  0.         0.         0.         0.         0.         0.\n",
            "  0.         0.         0.99215686 0.98823529 0.08235294 0.\n",
            "  0.         0.         0.         0.         0.         0.\n",
            "  0.         0.         0.         0.        ]\n",
            " [0.         0.         0.         0.         0.         0.\n",
            "  0.         0.         0.         0.         0.         0.\n",
            "  0.         0.27843137 0.99215686 0.98823529 0.08235294 0.\n",
            "  0.         0.         0.         0.         0.         0.\n",
            "  0.         0.         0.         0.        ]\n",
            " [0.         0.         0.         0.         0.         0.\n",
            "  0.         0.         0.         0.         0.         0.\n",
            "  0.         0.41568627 0.99215686 0.98823529 0.08235294 0.\n",
            "  0.         0.         0.         0.         0.         0.\n",
            "  0.         0.         0.         0.        ]\n",
            " [0.         0.         0.         0.         0.         0.\n",
            "  0.         0.         0.         0.         0.         0.\n",
            "  0.         0.17647059 1.         0.99215686 0.08235294 0.\n",
            "  0.         0.         0.         0.         0.         0.\n",
            "  0.         0.         0.         0.        ]\n",
            " [0.         0.         0.         0.         0.         0.\n",
            "  0.         0.         0.         0.         0.         0.\n",
            "  0.         0.         0.85490196 0.98823529 0.21960784 0.\n",
            "  0.         0.         0.         0.         0.         0.\n",
            "  0.         0.         0.         0.        ]\n",
            " [0.         0.         0.         0.         0.         0.\n",
            "  0.         0.         0.         0.         0.         0.\n",
            "  0.         0.         0.37647059 0.98823529 0.74117647 0.16470588\n",
            "  0.         0.         0.         0.         0.         0.\n",
            "  0.         0.         0.         0.        ]\n",
            " [0.         0.         0.         0.         0.         0.\n",
            "  0.         0.         0.         0.         0.         0.\n",
            "  0.         0.         0.05490196 0.72156863 0.98823529 0.66666667\n",
            "  0.04313725 0.         0.         0.         0.         0.\n",
            "  0.         0.         0.         0.        ]\n",
            " [0.         0.         0.         0.         0.         0.\n",
            "  0.         0.         0.         0.         0.         0.\n",
            "  0.         0.         0.         0.05490196 0.57647059 0.98823529\n",
            "  0.16470588 0.         0.         0.         0.         0.\n",
            "  0.         0.         0.         0.        ]\n",
            " [0.         0.         0.         0.         0.         0.\n",
            "  0.         0.         0.         0.         0.         0.\n",
            "  0.         0.         0.         0.         0.         0.\n",
            "  0.         0.         0.         0.         0.         0.\n",
            "  0.         0.         0.         0.        ]]\n"
          ],
          "name": "stdout"
        },
        {
          "output_type": "execute_result",
          "data": {
            "text/plain": [
              "<matplotlib.image.AxesImage at 0x7fec5e613588>"
            ]
          },
          "metadata": {
            "tags": []
          },
          "execution_count": 6
        },
        {
          "output_type": "display_data",
          "data": {
            "image/png": "[encoded data removed]",
            "text/plain": [
              "<Figure size 432x288 with 1 Axes>"
            ]
          },
          "metadata": {
            "tags": []
          }
        }
      ]
    },
    {
      "cell_type": "code",
      "metadata": {
        "id": "8hGX4KYpc9e7",
        "colab_type": "code",
        "colab": {}
      },
      "source": [
        "#we define our model here with 10 ouput classes\n",
        "model = tf.keras.models.Sequential([tf.keras.layers.Flatten(input_shape =(28,28)),\n",
        "                                  tf.keras.layers.Dense(256, activation = tf.nn.relu),\n",
        "                                  tf.keras.layers.Dense(10, activation = tf.nn.softmax)])"
      ],
      "execution_count": 0,
      "outputs": []
    },
    {
      "cell_type": "code",
      "metadata": {
        "id": "tkLkWjmkvP23",
        "colab_type": "code",
        "colab": {}
      },
      "source": [
        "model.compile(optimizer = 'adam',\n",
        "            loss='sparse_categorical_crossentropy',\n",
        "            metrics = ['accuracy'])  "
      ],
      "execution_count": 0,
      "outputs": []
    },
    {
      "cell_type": "code",
      "metadata": {
        "id": "vjLJ36bpxhBn",
        "colab_type": "code",
        "colab": {}
      },
      "source": [
        "class my_Callback(tf.keras.callbacks.Callback):\n",
        "  def on_epoch_end(self, epoch, logs= {}):\n",
        "    if(logs.get('acc')>0.99):\n",
        "      print(\"\\n reached desired accuracy, terminating training \\n\")\n",
        "      self.model.stop_training = True\n",
        "      "
      ],
      "execution_count": 0,
      "outputs": []
    },
    {
      "cell_type": "code",
      "metadata": {
        "id": "4o8DSh3Uwqm3",
        "colab_type": "code",
        "colab": {
          "base_uri": "https://localhost:8080/",
          "height": 308
        },
        "outputId": "6d2e4e32-a705-4f95-9e21-a0fa30f2b886"
      },
      "source": [
        "callbacks = my_Callback()\n",
        "model.fit(mnist_train,mnist_train_label,epochs = 10, callbacks=[callbacks])"
      ],
      "execution_count": 11,
      "outputs": [
        {
          "output_type": "stream",
          "text": [
            "Epoch 1/10\n",
            "60000/60000 [==============================] - 7s 117us/sample - loss: 0.2231 - acc: 0.9352\n",
            "Epoch 2/10\n",
            "60000/60000 [==============================] - 7s 108us/sample - loss: 0.0925 - acc: 0.9718\n",
            "Epoch 3/10\n",
            "60000/60000 [==============================] - 6s 106us/sample - loss: 0.0609 - acc: 0.9810\n",
            "Epoch 4/10\n",
            "60000/60000 [==============================] - 6s 107us/sample - loss: 0.0445 - acc: 0.9862\n",
            "Epoch 5/10\n",
            "60000/60000 [==============================] - 6s 107us/sample - loss: 0.0331 - acc: 0.9893\n",
            "Epoch 6/10\n",
            "59936/60000 [============================>.] - ETA: 0s - loss: 0.0239 - acc: 0.9923\n",
            " reached desired accuracy, terminating training \n",
            "\n",
            "60000/60000 [==============================] - 6s 108us/sample - loss: 0.0239 - acc: 0.9923\n"
          ],
          "name": "stdout"
        },
        {
          "output_type": "execute_result",
          "data": {
            "text/plain": [
              "<tensorflow.python.keras.callbacks.History at 0x7fec5e613a58>"
            ]
          },
          "metadata": {
            "tags": []
          },
          "execution_count": 11
        }
      ]
    },
    {
      "cell_type": "code",
      "metadata": {
        "id": "EdNCoXvixDHW",
        "colab_type": "code",
        "colab": {
          "base_uri": "https://localhost:8080/",
          "height": 53
        },
        "outputId": "59a34143-36d8-48d0-c7fb-103c9cb70070"
      },
      "source": [
        "model.evaluate(mnist_test,mnist_test_label)  "
      ],
      "execution_count": 12,
      "outputs": [
        {
          "output_type": "stream",
          "text": [
            "10000/10000 [==============================] - 0s 47us/sample - loss: 0.0821 - acc: 0.9771\n"
          ],
          "name": "stdout"
        },
        {
          "output_type": "execute_result",
          "data": {
            "text/plain": [
              "[0.08211755447458127, 0.9771]"
            ]
          },
          "metadata": {
            "tags": []
          },
          "execution_count": 12
        }
      ]
    },
    {
      "cell_type": "code",
      "metadata": {
        "id": "0xye2pkJ0Kie",
        "colab_type": "code",
        "colab": {
          "base_uri": "https://localhost:8080/",
          "height": 72
        },
        "outputId": "73db14ad-6995-4678-9120-09eda45883c5"
      },
      "source": [
        "classifications = model.predict(mnist_test)\n",
        "print(classifications[0])\n",
        "print(mnist_test_label[0])"
      ],
      "execution_count": 13,
      "outputs": [
        {
          "output_type": "stream",
          "text": [
            "[9.0728515e-11 1.5940527e-09 1.3350837e-08 3.9752307e-05 2.2763445e-12\n",
            " 1.8754573e-09 4.5027109e-14 9.9996030e-01 2.0949101e-10 1.0948886e-08]\n",
            "7\n"
          ],
          "name": "stdout"
        }
      ]
    },
    {
      "cell_type": "code",
      "metadata": {
        "id": "zLmVOHFR0ogW",
        "colab_type": "code",
        "colab": {}
      },
      "source": [
        ""
      ],
      "execution_count": 0,
      "outputs": []
    }
  ]
}